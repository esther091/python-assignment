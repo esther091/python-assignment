{
 "cells": [
  {
   "cell_type": "markdown",
   "id": "944be7dc-e067-4df9-a8db-e252d62f2ce3",
   "metadata": {},
   "source": [
    "## Question 1"
   ]
  },
  {
   "cell_type": "code",
   "execution_count": 3,
   "id": "4648f735-345a-4062-92df-4c924a267c3d",
   "metadata": {},
   "outputs": [
    {
     "name": "stdin",
     "output_type": "stream",
     "text": [
      "Enter a number:  -55\n"
     ]
    },
    {
     "name": "stdout",
     "output_type": "stream",
     "text": [
      "negative number\n"
     ]
    }
   ],
   "source": [
    "#a program that prints positive, negative or zero\n",
    "number = float(input(\"Enter a number: \"))\n",
    "if number >= 0:\n",
    "    print(\"positive number\")\n",
    "elif number == 0:\n",
    "    print(\"zero\")\n",
    "else:\n",
    "    print(\"negative number\")"
   ]
  },
  {
   "cell_type": "markdown",
   "id": "57f36e20-5f4a-4a80-af89-ce4de955b7c5",
   "metadata": {},
   "source": [
    "## Question 2"
   ]
  },
  {
   "cell_type": "code",
   "execution_count": 14,
   "id": "51866a06-0714-4bd9-b944-c81e26ccd233",
   "metadata": {},
   "outputs": [
    {
     "name": "stdin",
     "output_type": "stream",
     "text": [
      "Enter year:  2009\n"
     ]
    },
    {
     "name": "stdout",
     "output_type": "stream",
     "text": [
      "This is not a leap year\n"
     ]
    }
   ],
   "source": [
    "# a program that determines a leap year\n",
    "year = int(input(\"Enter year: \"))\n",
    "if year%4 == 0:\n",
    "    print(\"This is a leap year\")\n",
    "elif year% 400 == 0:\n",
    "    print(\"This is a leap year\")\n",
    "else:\n",
    "    print(\"This is not a leap year\")"
   ]
  },
  {
   "cell_type": "markdown",
   "id": "7b6be237-8a90-40e5-aafb-98c6bec85ce9",
   "metadata": {},
   "source": [
    "## Exercise 3"
   ]
  },
  {
   "cell_type": "code",
   "execution_count": 26,
   "id": "4f6dc612-3a3f-4fef-9f02-90672d75b8ae",
   "metadata": {},
   "outputs": [
    {
     "name": "stdin",
     "output_type": "stream",
     "text": [
      "Enter the first number:  55\n",
      "Enter the second number:  444\n"
     ]
    },
    {
     "name": "stdout",
     "output_type": "stream",
     "text": [
      "The first number is less than the second number.\n"
     ]
    }
   ],
   "source": [
    "## a program that compares 2 numbers\n",
    "\n",
    "num1 = float(input(\"Enter the first number: \"))\n",
    "num2 = float(input(\"Enter the second number: \"))\n",
    "if num1 > num2:\n",
    "    print(\"The first number is greater than the second number.\")\n",
    "elif num1 < num2:\n",
    "    print(\"The first number is less than the second number.\")\n",
    "else:\n",
    "    print(\"The first number is equal to the second number.\")"
   ]
  },
  {
   "cell_type": "markdown",
   "id": "ac21f115-0d1c-4625-b670-546e28c68072",
   "metadata": {},
   "source": [
    "## Exercise 4"
   ]
  },
  {
   "cell_type": "code",
   "execution_count": 34,
   "id": "0ae7fc7e-21b5-4354-8f85-5368fe9b387d",
   "metadata": {},
   "outputs": [
    {
     "name": "stdin",
     "output_type": "stream",
     "text": [
      "Enter a number:  109\n"
     ]
    },
    {
     "name": "stdout",
     "output_type": "stream",
     "text": [
      "Nah!!\n"
     ]
    }
   ],
   "source": [
    "# program that checks a number\n",
    "number = float(input(\"Enter a number: \"))\n",
    "if number > 10 and number <100:\n",
    "    print(\"Great!!\")\n",
    "else:\n",
    "    print(\"Nah!!\")"
   ]
  },
  {
   "cell_type": "markdown",
   "id": "1868c412-7f44-48e6-ba8e-5d2bc40686d1",
   "metadata": {},
   "source": [
    "## Exercise 5"
   ]
  },
  {
   "cell_type": "code",
   "execution_count": 43,
   "id": "a20c7e75-3945-47cd-8f23-c30e0c6e6fb6",
   "metadata": {},
   "outputs": [
    {
     "name": "stdin",
     "output_type": "stream",
     "text": [
      "Enter the first number:  55\n",
      "Enter the second number:  0\n",
      "Enter an operator (+, -, *, /):  /\n"
     ]
    },
    {
     "name": "stdout",
     "output_type": "stream",
     "text": [
      "Syntax Error\n"
     ]
    }
   ],
   "source": [
    "# A simple calculator\n",
    "num1 = float(input(\"Enter the first number: \"))\n",
    "num2 = float(input(\"Enter the second number: \"))\n",
    "operator = input(\"Enter an operator (+, -, *, /): \")\n",
    "\n",
    "if operator == '+':\n",
    "    result = num1 + num2\n",
    "    print(\"Result:\", result)\n",
    "elif operator == '-':\n",
    "    result = num1 - num2\n",
    "    print(\"Result:\", result)\n",
    "elif operator == '*':\n",
    "    result = num1 * num2\n",
    "    print(\"Result:\", result)\n",
    "elif operator == '/':\n",
    "    if num1 != 0 and num2 != 0:\n",
    "        result = num1 / num2\n",
    "        print(\"Result:\", result)\n",
    "    else:\n",
    "        print(\"Syntax Error\")\n",
    "else:\n",
    "    print(\"Invalid operator.\")\n"
   ]
  },
  {
   "cell_type": "markdown",
   "id": "d5cf2415-ea32-4ea3-85af-958927d94861",
   "metadata": {},
   "source": [
    "## Exercise 6"
   ]
  },
  {
   "cell_type": "code",
   "execution_count": 51,
   "id": "56d68a4e-c076-4a1c-99ef-18b972a418ff",
   "metadata": {},
   "outputs": [
    {
     "name": "stdin",
     "output_type": "stream",
     "text": [
      "Enter your age:  46\n"
     ]
    },
    {
     "name": "stdout",
     "output_type": "stream",
     "text": [
      "Category: Adult\n"
     ]
    }
   ],
   "source": [
    "# a program that categorizes a person by age\n",
    "age = int(input(\"Enter your age: \"))\n",
    "                \n",
    "if age >= 0 and age <= 12:\n",
    "    print(\"Category: Child\")\n",
    "elif age >= 13 and age <= 19:\n",
    "    print(\"Category: Teenager\")\n",
    "elif age >= 20 and age <= 64:\n",
    "    print(\"Category: Adult\")\n",
    "elif age >= 65:\n",
    "    print(\"Category: Senior\")\n",
    "else:\n",
    "    print(\"Invalid age. Please enter a non-negative number.\")\n"
   ]
  },
  {
   "cell_type": "markdown",
   "id": "67b4b53c-f603-46fa-92d9-986839e39214",
   "metadata": {},
   "source": [
    "## Exercise 7"
   ]
  },
  {
   "cell_type": "code",
   "execution_count": 87,
   "id": "2e9bf04e-06f5-4504-bec6-a197fd26f65c",
   "metadata": {},
   "outputs": [
    {
     "name": "stdin",
     "output_type": "stream",
     "text": [
      "Enter length of first side:  55\n",
      "Enter length of second side:  44\n",
      "Enter length of third side:  55\n"
     ]
    },
    {
     "name": "stdout",
     "output_type": "stream",
     "text": [
      "The triangle is an Isosceles triangle.\n"
     ]
    }
   ],
   "source": [
    "# a program that determines the type of triangle\n",
    "side1 = float(input(\"Enter length of first side: \"))\n",
    "side2 = float(input(\"Enter length of second side: \"))\n",
    "side3 = float(input(\"Enter length of third side: \"))\n",
    "\n",
    "if (side1 + side2 > side3) and (side1 + side3 > side2) and (side2 + side3 > side1):\n",
    "\n",
    "    if side1 == side2 == side3:\n",
    "        print(\"The triangle is an Equilateral triangle.\")\n",
    "    elif side1 == side2 or side1 == side3 or side2 == side3:\n",
    "        print(\"The triangle is an Isosceles triangle.\")\n",
    "    else:\n",
    "        print(\"The triangle is a Scalene triangle.\")\n",
    "else:\n",
    "    print(\"The given sides do not form a valid triangle.\")\n"
   ]
  },
  {
   "cell_type": "markdown",
   "id": "c0d37fa1-8df1-4fac-90ef-e18d12737181",
   "metadata": {},
   "source": [
    "## Exercise 8"
   ]
  },
  {
   "cell_type": "code",
   "execution_count": 88,
   "id": "52d58c01-b2dc-45ed-a14b-44e3a23e5a59",
   "metadata": {},
   "outputs": [
    {
     "name": "stdin",
     "output_type": "stream",
     "text": [
      "Enter the first string:  RED\n",
      "Enter the second string:  Red\n"
     ]
    },
    {
     "name": "stdout",
     "output_type": "stream",
     "text": [
      "The strings are not equal.\n"
     ]
    }
   ],
   "source": [
    "# Get two strings from the user\n",
    "string_1 = input(\"Enter the first string: \")\n",
    "string_2 = input(\"Enter the second string: \")\n",
    "\n",
    "# Check if they are exactly equal\n",
    "if string_1 == string_2:\n",
    "    print(\"The strings are exactly equal.\")\n",
    "else:\n",
    "    print(\"The strings are not equal.\")\n"
   ]
  },
  {
   "cell_type": "markdown",
   "id": "5ff11723-730b-4f25-b6a1-acdf27ad6885",
   "metadata": {},
   "source": [
    "## Exercise 9"
   ]
  },
  {
   "cell_type": "code",
   "execution_count": 91,
   "id": "68752870-2fa4-44a9-960e-e5f4725ce17b",
   "metadata": {},
   "outputs": [
    {
     "name": "stdin",
     "output_type": "stream",
     "text": [
      "Enter the first string:  RED\n",
      "Enter the second string:  Red\n"
     ]
    },
    {
     "name": "stdout",
     "output_type": "stream",
     "text": [
      "The strings are the SAME.\n"
     ]
    }
   ],
   "source": [
    "# Get input from the user\n",
    "string1 = input(\"Enter the first string: \")\n",
    "string2 = input(\"Enter the second string: \")\n",
    "\n",
    "# Compare the strings ignoring case\n",
    "if string1.lower() == string2.lower():\n",
    "    print(\"The strings are the SAME.\")\n",
    "else:\n",
    "    print(\"The strings are DIFFERENT.\")\n"
   ]
  },
  {
   "cell_type": "markdown",
   "id": "b4f89ea2-7500-42fb-9c23-01c0325a752e",
   "metadata": {},
   "source": [
    "## Exercise 10"
   ]
  },
  {
   "cell_type": "code",
   "execution_count": 95,
   "id": "fd0ea63c-387a-4095-87c4-73f54ef4210c",
   "metadata": {},
   "outputs": [
    {
     "name": "stdin",
     "output_type": "stream",
     "text": [
      "Enter your password:  5erf223cv@.\n"
     ]
    },
    {
     "name": "stdout",
     "output_type": "stream",
     "text": [
      "Password is valid.\n"
     ]
    }
   ],
   "source": [
    "# Get password input from the user\n",
    "password = input(\"Enter your password: \")\n",
    "\n",
    "# Check if the password meets the criteria\n",
    "if len(password) < 8:\n",
    "    print(\"Password is too short. It must be at least 8 characters long.\")\n",
    "elif password.lower() == \"password\" or password == \"123456\":\n",
    "    print(\"Password is too common. Choose a stronger password.\")\n",
    "else:\n",
    "    print(\"Password is valid.\")\n"
   ]
  },
  {
   "cell_type": "markdown",
   "id": "c688708a-84aa-48e9-9858-88775bed87e8",
   "metadata": {},
   "source": [
    "## Exercise 11"
   ]
  },
  {
   "cell_type": "code",
   "execution_count": 105,
   "id": "060e7765-8534-4ba6-b45b-9ff95275457b",
   "metadata": {},
   "outputs": [
    {
     "name": "stdin",
     "output_type": "stream",
     "text": [
      "Enter a word:  Esther\n"
     ]
    },
    {
     "name": "stdout",
     "output_type": "stream",
     "text": [
      "Category: Medium\n"
     ]
    }
   ],
   "source": [
    "# Get word input from the user\n",
    "word = input(\"Enter a word: \")\n",
    "\n",
    "# Get the length of the word\n",
    "length = len(word)\n",
    "\n",
    "# Categorize the word based on its length\n",
    "if length >= 1 and length <= 4:\n",
    "    print(\"Category: Short\")\n",
    "elif length >= 5 and length <= 8:\n",
    "    print(\"Category: Medium\")\n",
    "elif length >= 9:\n",
    "    print(\"Category: Long\")\n",
    "else:\n",
    "    print(\"You didn't enter a word.\")\n"
   ]
  },
  {
   "cell_type": "markdown",
   "id": "22ebad25-0246-487a-9a0c-b4cc98e74519",
   "metadata": {},
   "source": [
    "## Exercise 12"
   ]
  },
  {
   "cell_type": "code",
   "execution_count": 106,
   "id": "c6d94312-1632-4978-a7d3-74276b242681",
   "metadata": {},
   "outputs": [
    {
     "name": "stdin",
     "output_type": "stream",
     "text": [
      "Enter something:  rrrr5555\n"
     ]
    },
    {
     "name": "stdout",
     "output_type": "stream",
     "text": [
      "The input is a mix of letters and digits.\n"
     ]
    }
   ],
   "source": [
    "# Get input from the user\n",
    "user_input = input(\"Enter something: \")\n",
    "\n",
    "# Check the type of input\n",
    "if user_input.isdigit():\n",
    "    print(\"The input contains only digits.\")\n",
    "elif user_input.isalpha():\n",
    "    print(\"The input contains only letters.\")\n",
    "elif user_input.isalnum():\n",
    "    print(\"The input is a mix of letters and digits.\")\n",
    "else:\n",
    "    print(\"The input contains special characters or spaces.\")\n"
   ]
  },
  {
   "cell_type": "markdown",
   "id": "4a7ee114-a1a0-4069-b031-4f07158d63e6",
   "metadata": {},
   "source": [
    "## Exercise 13"
   ]
  },
  {
   "cell_type": "code",
   "execution_count": 111,
   "id": "682f1638-8c89-46a6-aca3-2ecfeb8267ff",
   "metadata": {},
   "outputs": [
    {
     "name": "stdin",
     "output_type": "stream",
     "text": [
      "Enter a string:  data science\n"
     ]
    },
    {
     "name": "stdout",
     "output_type": "stream",
     "text": [
      "The input contains multiple words.\n"
     ]
    }
   ],
   "source": [
    "# Get input from the user\n",
    "text = input(\"Enter a string: \")\n",
    "\n",
    "# Check for spaces\n",
    "if \" \" in text.strip():\n",
    "    print(\"The input contains multiple words.\")\n",
    "else:\n",
    "    print(\"The input is a single word.\")\n"
   ]
  },
  {
   "cell_type": "markdown",
   "id": "22b9cd9b-4e5b-46c3-9477-32871e8c05d9",
   "metadata": {},
   "source": [
    "## Exercise 14"
   ]
  },
  {
   "cell_type": "code",
   "execution_count": 114,
   "id": "8776ea1e-bb7a-4347-858d-bb98a84cf316",
   "metadata": {},
   "outputs": [
    {
     "name": "stdin",
     "output_type": "stream",
     "text": [
      "Enter a name:  esssyyy\n"
     ]
    },
    {
     "name": "stdout",
     "output_type": "stream",
     "text": [
      "The name starts with a vowel.\n"
     ]
    }
   ],
   "source": [
    "# Get the name input from the user\n",
    "name = input(\"Enter a name: \").strip()\n",
    "\n",
    "# Check if the name is not empty\n",
    "if len(name) == 0:\n",
    "    print(\"You didn't enter a name.\")\n",
    "else:\n",
    "    # Convert first letter to lowercase for easy checking\n",
    "    first_letter = name[0].lower()\n",
    "\n",
    "    # Check if the first letter is a vowel or consonant\n",
    "    if first_letter in ['a', 'e', 'i', 'o', 'u']:\n",
    "        print(\"The name starts with a vowel.\")\n",
    "    elif first_letter.isalpha():\n",
    "        print(\"The name starts with a consonant.\")\n",
    "    else:\n",
    "        print(\"The name starts with a non-alphabetic character.\")\n"
   ]
  },
  {
   "cell_type": "markdown",
   "id": "8461d955-499f-4887-8cb7-5f6b291bfd13",
   "metadata": {},
   "source": [
    "## Exercise 15"
   ]
  },
  {
   "cell_type": "code",
   "execution_count": 116,
   "id": "cceed4bf-e80b-4282-815d-85f4294da288",
   "metadata": {},
   "outputs": [
    {
     "name": "stdin",
     "output_type": "stream",
     "text": [
      "Enter a sentence:  What's your name\n"
     ]
    },
    {
     "name": "stdout",
     "output_type": "stream",
     "text": [
      "The sentence does NOT end with proper punctuation (., !, or ?).\n"
     ]
    }
   ],
   "source": [
    "# Get input sentence from the user\n",
    "sentence = input(\"Enter a sentence: \").strip()\n",
    "\n",
    "# Check if the sentence is empty\n",
    "if len(sentence) == 0:\n",
    "    print(\"You didn't enter a sentence.\")\n",
    "else:\n",
    "    # Check first character for uppercase\n",
    "    starts_with_capital = sentence[0].isupper()\n",
    "\n",
    "    # Check last character for proper punctuation\n",
    "    ends_with_punct = sentence[-1] in ['.', '!', '?']\n",
    "\n",
    "    # Output results\n",
    "    if starts_with_capital and ends_with_punct:\n",
    "        print(\"The sentence starts with a capital letter and ends with proper punctuation.\")\n",
    "    else:\n",
    "        if not starts_with_capital:\n",
    "            print(\"The sentence does NOT start with a capital letter.\")\n",
    "        if not ends_with_punct:\n",
    "            print(\"The sentence does NOT end with proper punctuation (., !, or ?).\")\n"
   ]
  },
  {
   "cell_type": "markdown",
   "id": "d02052e2-bfd3-40fb-a55d-db9e35f9210a",
   "metadata": {},
   "source": [
    "## Exercise 16"
   ]
  },
  {
   "cell_type": "code",
   "execution_count": 121,
   "id": "02c42f9d-c911-4eac-8627-557b5855470a",
   "metadata": {},
   "outputs": [
    {
     "name": "stdin",
     "output_type": "stream",
     "text": [
      "Enter a word:  dollars\n"
     ]
    },
    {
     "name": "stdout",
     "output_type": "stream",
     "text": [
      "\"dollars\" is not a palindrome.\n"
     ]
    }
   ],
   "source": [
    "# Get word input from the user\n",
    "word = input(\"Enter a word: \").strip()\n",
    "\n",
    "# Convert word to lowercase to ignore case\n",
    "word_lower = word.lower()\n",
    "\n",
    "# Check if the word is a palindrome\n",
    "if word_lower == word_lower[::-1]:\n",
    "    print(f'\"{word}\" is a palindrome.')\n",
    "else:\n",
    "    print(f'\"{word}\" is not a palindrome.')\n"
   ]
  },
  {
   "cell_type": "markdown",
   "id": "da3c0d66-e738-45b7-b9d4-33e352b680fc",
   "metadata": {},
   "source": [
    "## Exercise 17"
   ]
  },
  {
   "cell_type": "code",
   "execution_count": 122,
   "id": "63ec2d5c-2a1f-4aad-bbc1-7a076fa884ac",
   "metadata": {},
   "outputs": [
    {
     "name": "stdin",
     "output_type": "stream",
     "text": [
      "Enter the phone number (format xxx-xxx-xxxx):  555-333-6778\n"
     ]
    },
    {
     "name": "stdout",
     "output_type": "stream",
     "text": [
      "The number is in the correct format.\n"
     ]
    }
   ],
   "source": [
    "# Get input from the user\n",
    "phone_number = input(\"Enter a phone number (format: xxx-xxx-xxxx): \")\n",
    "\n",
    "# Check the length first\n",
    "if len(phone_number) == 12:\n",
    "    # Check if dashes are in the correct positions\n",
    "    if phone_number[3] == '-' and phone_number[7] == '-':\n",
    "        # Check if all other characters are digits\n",
    "        part1 = phone_number[0:3]\n",
    "        part2 = phone_number[4:7]\n",
    "        part3 = phone_number[8:12]\n",
    "\n",
    "        if part1.isdigit() and part2.isdigit() and part3.isdigit():\n",
    "            print(\"The phone number format is valid.\")\n",
    "        else:\n",
    "            print(\"The phone number contains invalid characters.\")\n",
    "    else:\n",
    "        print(\"The dashes are not in the correct positions.\")\n",
    "else:\n",
    "    print(\"The phone number must be 12 characters long.\")\n"
   ]
  },
  {
   "cell_type": "code",
   "execution_count": null,
   "id": "3b87a640-ec40-488e-8004-206f2f49d520",
   "metadata": {},
   "outputs": [],
   "source": []
  }
 ],
 "metadata": {
  "kernelspec": {
   "display_name": "Python [conda env:base] *",
   "language": "python",
   "name": "conda-base-py"
  },
  "language_info": {
   "codemirror_mode": {
    "name": "ipython",
    "version": 3
   },
   "file_extension": ".py",
   "mimetype": "text/x-python",
   "name": "python",
   "nbconvert_exporter": "python",
   "pygments_lexer": "ipython3",
   "version": "3.12.7"
  }
 },
 "nbformat": 4,
 "nbformat_minor": 5
}
