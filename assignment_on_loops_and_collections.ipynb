{
  "nbformat": 4,
  "nbformat_minor": 0,
  "metadata": {
    "colab": {
      "provenance": [],
      "authorship_tag": "ABX9TyPHVSx8OtTc/1/BurMDdV+K",
      "include_colab_link": true
    },
    "kernelspec": {
      "name": "python3",
      "display_name": "Python 3"
    },
    "language_info": {
      "name": "python"
    }
  },
  "cells": [
    {
      "cell_type": "markdown",
      "metadata": {
        "id": "view-in-github",
        "colab_type": "text"
      },
      "source": [
        "<a href=\"https://colab.research.google.com/github/esther091/python-assignment/blob/main/assignment_on_loops_and_collections.ipynb\" target=\"_parent\"><img src=\"https://colab.research.google.com/assets/colab-badge.svg\" alt=\"Open In Colab\"/></a>"
      ]
    },
    {
      "cell_type": "code",
      "source": [
        "for i in range(10, 0, -1):\n",
        "  print(i)\n",
        "else:\n",
        "  print(\"Blast off!\")"
      ],
      "metadata": {
        "colab": {
          "base_uri": "https://localhost:8080/"
        },
        "id": "a8JK4P2-31p5",
        "outputId": "ff168988-d9ff-4303-a555-59b916f49b6a"
      },
      "execution_count": null,
      "outputs": [
        {
          "output_type": "stream",
          "name": "stdout",
          "text": [
            "10\n",
            "9\n",
            "8\n",
            "7\n",
            "6\n",
            "5\n",
            "4\n",
            "3\n",
            "2\n",
            "1\n",
            "Blast off!\n"
          ]
        }
      ]
    },
    {
      "cell_type": "code",
      "source": [
        "for number in range(0,1001):\n",
        "  if number % 7 == 0:\n",
        "    print(number)\n"
      ],
      "metadata": {
        "colab": {
          "base_uri": "https://localhost:8080/"
        },
        "id": "38dqBTY465wB",
        "outputId": "f637521b-43e9-4669-a12b-428f062ca712"
      },
      "execution_count": null,
      "outputs": [
        {
          "output_type": "stream",
          "name": "stdout",
          "text": [
            "0\n",
            "7\n",
            "14\n",
            "21\n",
            "28\n",
            "35\n",
            "42\n",
            "49\n",
            "56\n",
            "63\n",
            "70\n",
            "77\n",
            "84\n",
            "91\n",
            "98\n",
            "105\n",
            "112\n",
            "119\n",
            "126\n",
            "133\n",
            "140\n",
            "147\n",
            "154\n",
            "161\n",
            "168\n",
            "175\n",
            "182\n",
            "189\n",
            "196\n",
            "203\n",
            "210\n",
            "217\n",
            "224\n",
            "231\n",
            "238\n",
            "245\n",
            "252\n",
            "259\n",
            "266\n",
            "273\n",
            "280\n",
            "287\n",
            "294\n",
            "301\n",
            "308\n",
            "315\n",
            "322\n",
            "329\n",
            "336\n",
            "343\n",
            "350\n",
            "357\n",
            "364\n",
            "371\n",
            "378\n",
            "385\n",
            "392\n",
            "399\n",
            "406\n",
            "413\n",
            "420\n",
            "427\n",
            "434\n",
            "441\n",
            "448\n",
            "455\n",
            "462\n",
            "469\n",
            "476\n",
            "483\n",
            "490\n",
            "497\n",
            "504\n",
            "511\n",
            "518\n",
            "525\n",
            "532\n",
            "539\n",
            "546\n",
            "553\n",
            "560\n",
            "567\n",
            "574\n",
            "581\n",
            "588\n",
            "595\n",
            "602\n",
            "609\n",
            "616\n",
            "623\n",
            "630\n",
            "637\n",
            "644\n",
            "651\n",
            "658\n",
            "665\n",
            "672\n",
            "679\n",
            "686\n",
            "693\n",
            "700\n",
            "707\n",
            "714\n",
            "721\n",
            "728\n",
            "735\n",
            "742\n",
            "749\n",
            "756\n",
            "763\n",
            "770\n",
            "777\n",
            "784\n",
            "791\n",
            "798\n",
            "805\n",
            "812\n",
            "819\n",
            "826\n",
            "833\n",
            "840\n",
            "847\n",
            "854\n",
            "861\n",
            "868\n",
            "875\n",
            "882\n",
            "889\n",
            "896\n",
            "903\n",
            "910\n",
            "917\n",
            "924\n",
            "931\n",
            "938\n",
            "945\n",
            "952\n",
            "959\n",
            "966\n",
            "973\n",
            "980\n",
            "987\n",
            "994\n"
          ]
        }
      ]
    },
    {
      "cell_type": "code",
      "source": [
        "numbers = [15, 2, 78, 34, 7, 99, 23]\n",
        "\n",
        "largest = max(numbers)\n",
        "smallest = min(numbers)\n",
        "\n",
        "print(\"Largest number:\", largest)\n",
        "print(\"Smallest number:\", smallest)\n",
        "\n",
        "\n",
        "\n",
        "\n"
      ],
      "metadata": {
        "colab": {
          "base_uri": "https://localhost:8080/"
        },
        "id": "HnwwIM0M-trI",
        "outputId": "b169b8d8-829a-413a-ed90-2b684b9d7cff"
      },
      "execution_count": null,
      "outputs": [
        {
          "output_type": "stream",
          "name": "stdout",
          "text": [
            "Largest number: 99\n",
            "Smallest number: 2\n"
          ]
        }
      ]
    },
    {
      "cell_type": "code",
      "source": [
        "numbers = [15, 2, 78, 34, 4, 2, 15, 78, 7, 99, 23]\n",
        "unique_numbers = []\n",
        "for num in numbers:\n",
        "    if num not in unique_numbers:\n",
        "        unique_numbers.append(num)\n",
        "\n",
        "print(\"Unique elements:\", unique_numbers)"
      ],
      "metadata": {
        "colab": {
          "base_uri": "https://localhost:8080/"
        },
        "id": "pD76IkrDA7OB",
        "outputId": "0b6c58ea-fb38-4e1f-f97c-723a78a4b354"
      },
      "execution_count": null,
      "outputs": [
        {
          "output_type": "stream",
          "name": "stdout",
          "text": [
            "Unique elements: [15, 2, 78, 34, 4, 7, 99, 23]\n"
          ]
        }
      ]
    },
    {
      "cell_type": "code",
      "source": [
        "numbers = [4, 2, 7, 4, 9, 4, 2, 4, 7, 2]\n",
        "\n",
        "# Use a dictionary to count occurrences\n",
        "count_dict = {}\n",
        "\n",
        "for num in numbers:\n",
        "    if num in count_dict:\n",
        "        count_dict[num] += 1\n",
        "    else:\n",
        "        count_dict[num] = 1\n",
        "\n",
        "# Find the most common element\n",
        "most_common = max(count_dict, key=count_dict.get)\n",
        "frequency = count_dict[most_common]\n",
        "\n",
        "print(\"Most common element:\", most_common)\n",
        "print(\"It appears\", frequency, \"times.\")\n",
        "\n",
        "\n"
      ],
      "metadata": {
        "id": "Yq6A5Nz9Cjzf",
        "colab": {
          "base_uri": "https://localhost:8080/"
        },
        "outputId": "b76685c7-7fa7-4f90-a2c5-87b02dcf47d8"
      },
      "execution_count": 7,
      "outputs": [
        {
          "output_type": "stream",
          "name": "stdout",
          "text": [
            "Most common element: 4\n",
            "It appears 4 times.\n"
          ]
        }
      ]
    },
    {
      "cell_type": "code",
      "source": [
        "sentence = input(\"Enter a sentence: \")\n",
        "\n",
        "vowels = \"aeiouAEIOU\"\n",
        "vowel_count = 0\n",
        "consonant_count = 0\n",
        "\n",
        "for char in sentence:\n",
        "    if char.isalpha():  # Checks if the character is a letter\n",
        "        if char in vowels:\n",
        "            vowel_count += 1\n",
        "        else:\n",
        "            consonant_count += 1\n",
        "\n",
        "print(\"Number of vowels:\", vowel_count)\n",
        "print(\"Number of consonants:\", consonant_count)\n"
      ],
      "metadata": {
        "colab": {
          "base_uri": "https://localhost:8080/"
        },
        "id": "ejPdm5sbmzUv",
        "outputId": "e40b39c3-adf9-4004-e095-783794062ad7"
      },
      "execution_count": 9,
      "outputs": [
        {
          "output_type": "stream",
          "name": "stdout",
          "text": [
            "Enter a sentence: esther is  happy\n",
            "Number of vowels: 4\n",
            "Number of consonants: 9\n"
          ]
        }
      ]
    },
    {
      "cell_type": "code",
      "source": [
        "sentence = input(\"Enter a sentence: \")\n",
        "\n",
        "words = sentence.split()  # Split sentence into a list of words\n",
        "longest_word = \"\"\n",
        "\n",
        "for word in words:\n",
        "    if len(word) > len(longest_word):\n",
        "        longest_word = word\n",
        "\n",
        "print(\"The longest word is:\", longest_word)\n",
        "print(\"Length:\", len(longest_word))\n"
      ],
      "metadata": {
        "colab": {
          "base_uri": "https://localhost:8080/"
        },
        "id": "ttdkgaehoKVW",
        "outputId": "ba42b9e5-ecfe-4670-a9db-6bca1b439628"
      },
      "execution_count": 11,
      "outputs": [
        {
          "output_type": "stream",
          "name": "stdout",
          "text": [
            "Enter a sentence: i miss my friend\n",
            "The longest word is: friend\n",
            "Length: 6\n"
          ]
        }
      ]
    },
    {
      "cell_type": "code",
      "source": [
        "sentence = input(\"Enter a sentence: \")\n",
        "\n",
        "no_spaces = sentence.replace(\" \", \"\")\n",
        "\n",
        "print(\"Sentence without spaces:\", no_spaces)\n"
      ],
      "metadata": {
        "colab": {
          "base_uri": "https://localhost:8080/"
        },
        "id": "VKLl_YSbql1i",
        "outputId": "da6bc336-587b-4d78-94c9-98e1d494bdf8"
      },
      "execution_count": 12,
      "outputs": [
        {
          "output_type": "stream",
          "name": "stdout",
          "text": [
            "Enter a sentence: i might go home\n",
            "Sentence without spaces: imightgohome\n"
          ]
        }
      ]
    },
    {
      "cell_type": "code",
      "source": [
        "total = 0\n",
        "count = 0\n",
        "\n",
        "while total <= 100:\n",
        "    number = float(input(\"Enter a number: \"))\n",
        "    total += number\n",
        "    count += 1\n",
        "\n",
        "print(\"Total exceeded 100!\")\n",
        "print(\"Total sum:\", total)\n",
        "print(\"Numbers entered:\", count)\n",
        "\n"
      ],
      "metadata": {
        "colab": {
          "base_uri": "https://localhost:8080/"
        },
        "id": "f8MB5ppsq6--",
        "outputId": "764c01f6-4968-4699-f537-571aa62d1155"
      },
      "execution_count": 13,
      "outputs": [
        {
          "output_type": "stream",
          "name": "stdout",
          "text": [
            "Enter a number: 55\n",
            "Enter a number: 45\n",
            "Enter a number: 44\n",
            "Total exceeded 100!\n",
            "Total sum: 144.0\n",
            "Numbers entered: 3\n"
          ]
        }
      ]
    },
    {
      "cell_type": "code",
      "source": [
        "password = \"\"\n",
        "\n",
        "while password != \"secret123\":\n",
        "    password = input(\"Enter the password: \")\n",
        "\n",
        "print(\"Access granted!\")\n"
      ],
      "metadata": {
        "colab": {
          "base_uri": "https://localhost:8080/"
        },
        "id": "MkCzwC6DsxrD",
        "outputId": "3bb07ac9-5e94-44a3-d2f4-0b40ed1b9be1"
      },
      "execution_count": 14,
      "outputs": [
        {
          "output_type": "stream",
          "name": "stdout",
          "text": [
            "Enter the password: essy55\n",
            "Enter the password: ghiiii\n",
            "Enter the password: secet\n",
            "Enter the password: secret123\n",
            "Access granted!\n"
          ]
        }
      ]
    },
    {
      "cell_type": "code",
      "source": [
        "for number in range(1, 51):\n",
        "    if number % 2 == 0:\n",
        "        print(number)\n"
      ],
      "metadata": {
        "colab": {
          "base_uri": "https://localhost:8080/"
        },
        "id": "xR4z8kOitqIs",
        "outputId": "08122cdb-7634-45da-f355-aa1cc5726344"
      },
      "execution_count": 15,
      "outputs": [
        {
          "output_type": "stream",
          "name": "stdout",
          "text": [
            "2\n",
            "4\n",
            "6\n",
            "8\n",
            "10\n",
            "12\n",
            "14\n",
            "16\n",
            "18\n",
            "20\n",
            "22\n",
            "24\n",
            "26\n",
            "28\n",
            "30\n",
            "32\n",
            "34\n",
            "36\n",
            "38\n",
            "40\n",
            "42\n",
            "44\n",
            "46\n",
            "48\n",
            "50\n"
          ]
        }
      ]
    },
    {
      "cell_type": "code",
      "source": [
        "count = int(input(\"Enter how many Fibonacci numbers to print: \"))\n",
        "\n",
        "a, b = 0, 1  # Starting values\n",
        "fibonacci_sequence = []\n",
        "\n",
        "for _ in range(count):\n",
        "    fibonacci_sequence.append(a)\n",
        "    a, b = b, a + b  # Update values\n",
        "\n",
        "print(\"Fibonacci sequence:\")\n",
        "print(fibonacci_sequence)\n"
      ],
      "metadata": {
        "colab": {
          "base_uri": "https://localhost:8080/"
        },
        "id": "pcLWlcgWtvSv",
        "outputId": "3d14d4e3-6bb1-4ef8-c263-b652c6d5483a"
      },
      "execution_count": 17,
      "outputs": [
        {
          "output_type": "stream",
          "name": "stdout",
          "text": [
            "Enter how many Fibonacci numbers to print: 10\n",
            "Fibonacci sequence:\n",
            "[0, 1, 1, 2, 3, 5, 8, 13, 21, 34]\n"
          ]
        }
      ]
    },
    {
      "cell_type": "code",
      "source": [
        "num = int(input(\"Enter a number: \"))\n",
        "\n",
        "print(f\"Multiplication table of {num}:\")\n",
        "\n",
        "for i in range(1, 11):\n",
        "    print(f\"{num} x {i} = {num * i}\")\n"
      ],
      "metadata": {
        "colab": {
          "base_uri": "https://localhost:8080/"
        },
        "id": "NMZAAYZMu3Bb",
        "outputId": "9aa71b7b-bbdc-4d38-af96-5f6fc3bb7338"
      },
      "execution_count": 18,
      "outputs": [
        {
          "output_type": "stream",
          "name": "stdout",
          "text": [
            "Enter a number: 5\n",
            "Multiplication table of 5:\n",
            "5 x 1 = 5\n",
            "5 x 2 = 10\n",
            "5 x 3 = 15\n",
            "5 x 4 = 20\n",
            "5 x 5 = 25\n",
            "5 x 6 = 30\n",
            "5 x 7 = 35\n",
            "5 x 8 = 40\n",
            "5 x 9 = 45\n",
            "5 x 10 = 50\n"
          ]
        }
      ]
    },
    {
      "cell_type": "code",
      "source": [
        "numbers = []\n",
        "\n",
        "while True:\n",
        "    num = float(input(\"Enter a number: \"))\n",
        "    if num < 0:\n",
        "        break\n",
        "    numbers.append(num)\n",
        "\n",
        "print(\"Numbers entered:\", numbers)\n"
      ],
      "metadata": {
        "colab": {
          "base_uri": "https://localhost:8080/"
        },
        "id": "KlOVLm_TvtMV",
        "outputId": "5e404ecc-ae6e-4e93-8976-2dd9b273fd79"
      },
      "execution_count": 20,
      "outputs": [
        {
          "output_type": "stream",
          "name": "stdout",
          "text": [
            "Enter a number: 44\n",
            "Enter a number: 66\n",
            "Enter a number: 90\n",
            "Enter a number: 77\n",
            "Enter a number: -55\n",
            "Numbers entered: [44.0, 66.0, 90.0, 77.0]\n"
          ]
        }
      ]
    },
    {
      "cell_type": "code",
      "source": [
        "numbers = []\n",
        "\n",
        "while True:\n",
        "    num = float(input(\"Enter a number: \"))\n",
        "    if num == 0:\n",
        "        break\n",
        "    numbers.append(num)\n",
        "\n",
        "print(\"You entered:\", numbers)\n"
      ],
      "metadata": {
        "colab": {
          "base_uri": "https://localhost:8080/"
        },
        "id": "fliXqpuOxOaV",
        "outputId": "759281d2-d582-40a7-e2a5-adfd8d23e769"
      },
      "execution_count": 22,
      "outputs": [
        {
          "output_type": "stream",
          "name": "stdout",
          "text": [
            "Enter a number: 44\n",
            "Enter a number: 9\n",
            "Enter a number: 8\n",
            "Enter a number: 7\n",
            "Enter a number: -5\n",
            "Enter a number: 0\n",
            "You entered: [44.0, 9.0, 8.0, 7.0, -5.0]\n"
          ]
        }
      ]
    },
    {
      "cell_type": "code",
      "source": [
        "num = int(input(\"Enter a number: \"))\n",
        "\n",
        "power = 1  # Start with 2^0 = 1\n",
        "\n",
        "while power <= num:\n",
        "    power *= 2  # Keep multiplying by 2\n",
        "\n",
        "print(\"The smallest power of 2 greater than\", num, \"is:\", power)\n"
      ],
      "metadata": {
        "colab": {
          "base_uri": "https://localhost:8080/"
        },
        "id": "bjzEzDY5yOCO",
        "outputId": "dd7c8c1e-d38c-4f08-ec2b-9445d7e2c83d"
      },
      "execution_count": 24,
      "outputs": [
        {
          "output_type": "stream",
          "name": "stdout",
          "text": [
            "Enter a number: 3\n",
            "The smallest power of 2 greater than 3 is: 4\n"
          ]
        }
      ]
    }
  ]
}