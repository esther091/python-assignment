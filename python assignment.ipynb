{
 "cells": [
  {
   "cell_type": "markdown",
   "id": "d270a4ba-c361-4634-af95-55ef4aac6e48",
   "metadata": {},
   "source": [
    "## Exercise 3 : Area of a room"
   ]
  },
  {
   "cell_type": "code",
   "execution_count": 1,
   "id": "a4f57e24-88fc-4943-9163-693d008e0bfb",
   "metadata": {},
   "outputs": [
    {
     "name": "stdout",
     "output_type": "stream",
     "text": [
      "159.2895 ft\n"
     ]
    }
   ],
   "source": [
    "#Calculating the area of a room\n",
    "\n",
    "length = 15.45\n",
    "width = 10.31\n",
    "\n",
    "area = length*width\n",
    "\n",
    "print(area, \"ft\")"
   ]
  },
  {
   "cell_type": "markdown",
   "id": "11576429-9678-4d83-b342-de6be2b2cfca",
   "metadata": {},
   "source": [
    "## Exercise 4: Area of a field"
   ]
  },
  {
   "cell_type": "code",
   "execution_count": 2,
   "id": "65107a6b-7840-4652-a33f-8b70e9c347f9",
   "metadata": {},
   "outputs": [
    {
     "name": "stdout",
     "output_type": "stream",
     "text": [
      "0.003656783746556474 acres\n"
     ]
    }
   ],
   "source": [
    "#a program that calculates the area of a field\n",
    "\n",
    "length = 15.45\n",
    "width = 10.31\n",
    "\n",
    "area = length*width\n",
    "area_in_acres = area/43560\n",
    "\n",
    "print(area_in_acres, \"acres\")"
   ]
  },
  {
   "cell_type": "markdown",
   "id": "e1bad4d6-90f6-461e-bb9f-81c330dac783",
   "metadata": {},
   "source": [
    "## Exercise 5- Bottle Deposits"
   ]
  },
  {
   "cell_type": "code",
   "execution_count": 3,
   "id": "153c2603-fe99-4253-bf85-fd051cc10f6a",
   "metadata": {},
   "outputs": [
    {
     "name": "stdin",
     "output_type": "stream",
     "text": [
      "How many containers 1 litre or less do you have?  5\n",
      "How many containers  more than 1 litre do you have?  10\n"
     ]
    },
    {
     "name": "stdout",
     "output_type": "stream",
     "text": [
      "Your refund amount is 3.00$\n"
     ]
    }
   ],
   "source": [
    "#A program that reads number of containers and displays the result\n",
    "\n",
    "less_container_deposit = 0.10\n",
    "more_container_deposit = 0.25\n",
    "\n",
    "less= int(input(\"How many containers 1 litre or less do you have? \"))\n",
    "more= int(input(\"How many containers  more than 1 litre do you have? \"))\n",
    "\n",
    "refund= (less*less_container_deposit) + (more*more_container_deposit)\n",
    "\n",
    "print(f\"Your refund amount is {refund:.2f}$\")"
   ]
  },
  {
   "cell_type": "markdown",
   "id": "1508a33c-a943-49dd-8e7e-5926101a7202",
   "metadata": {},
   "source": [
    "## Exercise 6 - Tax and Tip"
   ]
  },
  {
   "cell_type": "code",
   "execution_count": 4,
   "id": "76b61af7-610c-436d-8702-41afff91fd6b",
   "metadata": {},
   "outputs": [
    {
     "name": "stdin",
     "output_type": "stream",
     "text": [
      "What is the cost of the meal you ordered in $?  100\n"
     ]
    },
    {
     "name": "stdout",
     "output_type": "stream",
     "text": [
      "Your tax amount, tip amount, and total amount is  10.00$,  18.00$,  128.00$, respectively.\n"
     ]
    }
   ],
   "source": [
    "# Calculating tax and tip rate of a user\n",
    "\n",
    "tax_rate = 0.10\n",
    "tip_rate = 0.18\n",
    "\n",
    "meal_cost = float(input(\"What is the cost of the meal you ordered in $? \"))\n",
    "tax_amount = meal_cost * tax_rate\n",
    "tip_amount = meal_cost * tip_rate\n",
    "Total_amount = meal_cost + tax_amount + tip_amount\n",
    "\n",
    "print(f\"Your tax amount, tip amount, and total amount is {tax_amount: .2f}$, {tip_amount: .2f}$, {Total_amount: .2f}$, respectively.\")\n"
   ]
  },
  {
   "cell_type": "markdown",
   "id": "7b943e7b-da82-4d95-a2b6-d39cfb6c4ce3",
   "metadata": {},
   "source": [
    "# Exercise 8: Widgets and Gizmos"
   ]
  },
  {
   "cell_type": "code",
   "execution_count": 5,
   "id": "37e3d853-7181-436b-ad3f-8e999ab9f498",
   "metadata": {},
   "outputs": [
    {
     "name": "stdin",
     "output_type": "stream",
     "text": [
      "Enter the number of widgets:  5\n",
      "Enter the number of gizmos:  10\n"
     ]
    },
    {
     "name": "stdout",
     "output_type": "stream",
     "text": [
      "The total weight of your order is 1495g\n"
     ]
    }
   ],
   "source": [
    "# calculating total weight of widgets and gizmos\n",
    "\n",
    "widget= int(input(\"Enter the number of widgets: \"))\n",
    "gizmos= int(input(\"Enter the number of gizmos: \"))\n",
    "\n",
    "widget_weight = widget*75\n",
    "gizmos_weight = gizmos*112\n",
    "\n",
    "total_weight = widget_weight + gizmos_weight\n",
    "\n",
    "print(f\"The total weight of your order is {total_weight}g\")\n"
   ]
  },
  {
   "cell_type": "code",
   "execution_count": null,
   "id": "dcedf287-1a35-4570-beb1-3c3cfc521ee4",
   "metadata": {},
   "outputs": [],
   "source": []
  }
 ],
 "metadata": {
  "kernelspec": {
   "display_name": "Python 3 (ipykernel)",
   "language": "python",
   "name": "python3"
  },
  "language_info": {
   "codemirror_mode": {
    "name": "ipython",
    "version": 3
   },
   "file_extension": ".py",
   "mimetype": "text/x-python",
   "name": "python",
   "nbconvert_exporter": "python",
   "pygments_lexer": "ipython3",
   "version": "3.12.7"
  }
 },
 "nbformat": 4,
 "nbformat_minor": 5
}
