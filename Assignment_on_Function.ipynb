{
  "nbformat": 4,
  "nbformat_minor": 0,
  "metadata": {
    "colab": {
      "provenance": [],
      "authorship_tag": "ABX9TyMSfXJMy0lfG9CkcM7yUaFD",
      "include_colab_link": true
    },
    "kernelspec": {
      "name": "python3",
      "display_name": "Python 3"
    },
    "language_info": {
      "name": "python"
    }
  },
  "cells": [
    {
      "cell_type": "markdown",
      "metadata": {
        "id": "view-in-github",
        "colab_type": "text"
      },
      "source": [
        "<a href=\"https://colab.research.google.com/github/esther091/python-assignment/blob/main/Assignment_on_Function.ipynb\" target=\"_parent\"><img src=\"https://colab.research.google.com/assets/colab-badge.svg\" alt=\"Open In Colab\"/></a>"
      ]
    },
    {
      "cell_type": "markdown",
      "source": [],
      "metadata": {
        "id": "3BiX1gzcwdT0"
      }
    },
    {
      "cell_type": "markdown",
      "source": [
        "1. Write a function called greet that takes a name as a parameter and returns \"Hello,[name]!\""
      ],
      "metadata": {
        "id": "9IHvsiSLwiON"
      }
    },
    {
      "cell_type": "code",
      "source": [
        "def greet(name):\n",
        "  print(f\"Hello, {name}!\")"
      ],
      "metadata": {
        "id": "PrBWiJOQuYO1"
      },
      "execution_count": null,
      "outputs": []
    },
    {
      "cell_type": "code",
      "execution_count": null,
      "metadata": {
        "id": "UJwa-5cUtlBm",
        "colab": {
          "base_uri": "https://localhost:8080/"
        },
        "outputId": "95030f02-677c-4b16-807c-82be1c599889"
      },
      "outputs": [
        {
          "output_type": "stream",
          "name": "stdout",
          "text": [
            "Hello, Esther!\n"
          ]
        }
      ],
      "source": [
        "greet(\"Esther\")"
      ]
    },
    {
      "cell_type": "markdown",
      "source": [
        "2. Create a function calculate_area that takes length and width as parameters and returns the area of a rectangle."
      ],
      "metadata": {
        "id": "Kqa633TmxFzH"
      }
    },
    {
      "cell_type": "code",
      "source": [
        "def calculate_area(length, width):\n",
        "  area = length * width\n",
        "  print (area)"
      ],
      "metadata": {
        "id": "U1apytqcxa7S"
      },
      "execution_count": null,
      "outputs": []
    },
    {
      "cell_type": "code",
      "source": [
        "calculate_area(2,4)"
      ],
      "metadata": {
        "colab": {
          "base_uri": "https://localhost:8080/"
        },
        "id": "fH0FwrXWyDyO",
        "outputId": "d0648dfc-f23e-47dc-dcfe-413ac325b06e"
      },
      "execution_count": null,
      "outputs": [
        {
          "output_type": "stream",
          "name": "stdout",
          "text": [
            "8\n"
          ]
        }
      ]
    },
    {
      "cell_type": "markdown",
      "source": [
        "3. Define a function is_even that takes a number and returns True if it's even, False\n",
        "if it's odd."
      ],
      "metadata": {
        "id": "6Ox9Sjl8y5UC"
      }
    },
    {
      "cell_type": "code",
      "source": [
        "def is_even(number):\n",
        "  if number % 2 == 0:\n",
        "    print(True)\n",
        "  else:\n",
        "    print(False)"
      ],
      "metadata": {
        "id": "epj6UPWMzGhg"
      },
      "execution_count": null,
      "outputs": []
    },
    {
      "cell_type": "code",
      "source": [
        "is_even(5)"
      ],
      "metadata": {
        "colab": {
          "base_uri": "https://localhost:8080/"
        },
        "id": "3cmlEgFG37UT",
        "outputId": "e2820dc2-9e22-4286-c430-cd8a4cdd504e"
      },
      "execution_count": null,
      "outputs": [
        {
          "output_type": "stream",
          "name": "stdout",
          "text": [
            "False\n"
          ]
        }
      ]
    },
    {
      "cell_type": "markdown",
      "source": [
        "4. Write a function get_max that takes two numbers and returns the larger one."
      ],
      "metadata": {
        "id": "xBwiF-Ko4Lyy"
      }
    },
    {
      "cell_type": "code",
      "source": [
        "def get_max(num1,num2):\n",
        "  if num1>num2:\n",
        "     print(f\"max: {num1}\")\n",
        "  elif num1<num2:\n",
        "     print(f\"max: {num2}\")\n",
        "  else:\n",
        "     print(\"A number must be greater\")"
      ],
      "metadata": {
        "id": "dfT6xGIT4K1t"
      },
      "execution_count": null,
      "outputs": []
    },
    {
      "cell_type": "code",
      "source": [
        "get_max(20, -20)"
      ],
      "metadata": {
        "colab": {
          "base_uri": "https://localhost:8080/"
        },
        "id": "IFIk8Msv6xdI",
        "outputId": "af3c0ed1-6a4d-479c-e737-f824397dfcbf"
      },
      "execution_count": null,
      "outputs": [
        {
          "output_type": "stream",
          "name": "stdout",
          "text": [
            "max: 20\n"
          ]
        }
      ]
    },
    {
      "cell_type": "code",
      "source": [
        "get_max(220, 220)"
      ],
      "metadata": {
        "colab": {
          "base_uri": "https://localhost:8080/"
        },
        "id": "v3xk23V27G0i",
        "outputId": "48d3d7fd-bd7f-4b30-88b2-4d88cbfb2f61"
      },
      "execution_count": null,
      "outputs": [
        {
          "output_type": "stream",
          "name": "stdout",
          "text": [
            "A number must be greater\n"
          ]
        }
      ]
    },
    {
      "cell_type": "markdown",
      "source": [
        "5. Create a function celsius_to_fahrenheit that converts Celsius to Fahrenheit\n",
        "using the formula: F = (C × 9/5) + 32"
      ],
      "metadata": {
        "id": "5w37S1bs7UBJ"
      }
    },
    {
      "cell_type": "code",
      "source": [
        "def celsius_to_fahrenheit(celsius):\n",
        "  fahrenheit = (celsius*9/5) + 32\n",
        "  print(fahrenheit)"
      ],
      "metadata": {
        "id": "ztjOmwWO8UYB"
      },
      "execution_count": null,
      "outputs": []
    },
    {
      "cell_type": "code",
      "source": [
        "celsius_to_fahrenheit(60)"
      ],
      "metadata": {
        "colab": {
          "base_uri": "https://localhost:8080/"
        },
        "id": "6jJkbke19L55",
        "outputId": "81f6d597-44ec-4261-a50f-8bc0f0a87b84"
      },
      "execution_count": null,
      "outputs": [
        {
          "output_type": "stream",
          "name": "stdout",
          "text": [
            "140.0\n"
          ]
        }
      ]
    },
    {
      "cell_type": "markdown",
      "source": [
        "6. Write a function introduce that takes a name and an optional age parameter\n",
        "(default value 25). It should return \"Hi, I'm [name] and I'm [age] years old.\""
      ],
      "metadata": {
        "id": "LE3Qamf39rtl"
      }
    },
    {
      "cell_type": "code",
      "source": [
        "def introduce(name, age = 25):\n",
        "    print(f\"Hi, I'm {name} and I'm {age} years old.\")"
      ],
      "metadata": {
        "id": "CGGI8MRf9kH-"
      },
      "execution_count": null,
      "outputs": []
    },
    {
      "cell_type": "code",
      "source": [
        "introduce(\"Esther\")"
      ],
      "metadata": {
        "colab": {
          "base_uri": "https://localhost:8080/"
        },
        "id": "d3IaO51r9fe2",
        "outputId": "1f64d47a-16d6-4093-e51b-f5f927ee2ffc"
      },
      "execution_count": null,
      "outputs": [
        {
          "output_type": "stream",
          "name": "stdout",
          "text": [
            "Hi, I'm Esther and I'm 25 years old.\n"
          ]
        }
      ]
    },
    {
      "cell_type": "code",
      "source": [
        "introduce(\"Esther\", 20)"
      ],
      "metadata": {
        "colab": {
          "base_uri": "https://localhost:8080/"
        },
        "id": "2e8ECRdGCe1c",
        "outputId": "de8e8a75-e6cf-46af-83cc-90740ce43c52"
      },
      "execution_count": null,
      "outputs": [
        {
          "output_type": "stream",
          "name": "stdout",
          "text": [
            "Hi, I'm Esther and I'm 20 years old.\n"
          ]
        }
      ]
    },
    {
      "cell_type": "markdown",
      "source": [
        "7. Create a function calculate_discount that takes a price and discount\n",
        "percentage (default 10%) and returns the discounted price."
      ],
      "metadata": {
        "id": "1rLdT4nEEbvL"
      }
    },
    {
      "cell_type": "code",
      "source": [
        "def calculate_discount(price,discount_percentage = 0.1):\n",
        "    discount_price = price*discount_percentage\n",
        "    print(discount_price)"
      ],
      "metadata": {
        "id": "fa9RMTVrEsWr"
      },
      "execution_count": null,
      "outputs": []
    },
    {
      "cell_type": "code",
      "source": [
        "calculate_discount(300)"
      ],
      "metadata": {
        "id": "d37FJiV7Esph",
        "colab": {
          "base_uri": "https://localhost:8080/"
        },
        "outputId": "80bb82eb-19cf-478d-ca1b-16a4d37b50a8"
      },
      "execution_count": null,
      "outputs": [
        {
          "output_type": "stream",
          "name": "stdout",
          "text": [
            "30.0\n"
          ]
        }
      ]
    },
    {
      "cell_type": "markdown",
      "source": [
        "8. Define a function create_email that takes a first name, last name, and optional\n",
        "domain (default \"gmail.com\") to create an email address."
      ],
      "metadata": {
        "id": "41p8UNcD0zgL"
      }
    },
    {
      "cell_type": "code",
      "source": [
        "def create_email(first_name, last_name, domain_name = \"gmail.com\"):\n",
        "    print(f\" Email Address: {first_name}{last_name}@gmail.com\")"
      ],
      "metadata": {
        "id": "BRFGfHpx1GM1"
      },
      "execution_count": null,
      "outputs": []
    },
    {
      "cell_type": "code",
      "source": [
        "create_email(\"esther\", \"mgbedo\")"
      ],
      "metadata": {
        "colab": {
          "base_uri": "https://localhost:8080/"
        },
        "id": "9w2YCs_S1pFW",
        "outputId": "53b13719-0683-4e29-ff64-8d5dae48916e"
      },
      "execution_count": null,
      "outputs": [
        {
          "output_type": "stream",
          "name": "stdout",
          "text": [
            " Email Address: esthermgbedo@gmail.com\n"
          ]
        }
      ]
    },
    {
      "cell_type": "markdown",
      "source": [
        "9. Create a function count_vowels that takes a string and returns the number of\n",
        "vowels in it"
      ],
      "metadata": {
        "id": "OZQq5HYW5CJo"
      }
    },
    {
      "cell_type": "code",
      "source": [
        "def count_vowels(string):\n",
        "    vowels = \"aeiouAEIOU\"\n",
        "    count = 0\n",
        "    for char in string:\n",
        "        if char in vowels:\n",
        "           count += 1\n",
        "    print(f\"no of vowels: {count}\")"
      ],
      "metadata": {
        "id": "0dgnuWIW5Jlz"
      },
      "execution_count": null,
      "outputs": []
    },
    {
      "cell_type": "code",
      "source": [
        "count_vowels(\"Esther\")"
      ],
      "metadata": {
        "colab": {
          "base_uri": "https://localhost:8080/"
        },
        "id": "zolCUOMG733u",
        "outputId": "56744771-c932-4e80-b22f-28c9e65daea1"
      },
      "execution_count": null,
      "outputs": [
        {
          "output_type": "stream",
          "name": "stdout",
          "text": [
            "no of vowels: 2\n"
          ]
        }
      ]
    },
    {
      "cell_type": "markdown",
      "source": [
        "10. Define a function find_longest_word that takes a list of words and returns the\n",
        "longest one."
      ],
      "metadata": {
        "id": "KFK-xDyT-bw7"
      }
    },
    {
      "cell_type": "code",
      "source": [
        "def find_longest_word(list_of_words):\n",
        "    longest_word = \"\"\n",
        "    for word in list_of_words:\n",
        "        if len(word) > len(longest_word):\n",
        "          longest_word = word\n",
        "    print(f\"longest word: {longest_word}\")"
      ],
      "metadata": {
        "id": "9meHsxg5-bZs"
      },
      "execution_count": null,
      "outputs": []
    },
    {
      "cell_type": "code",
      "source": [
        "list_of_words = [\"Esther\", \"Glory\", \"Chinemerem\", \"brouhaha\", \"Metamorphosis\"]\n",
        "find_longest_word(list_of_words)"
      ],
      "metadata": {
        "colab": {
          "base_uri": "https://localhost:8080/"
        },
        "id": "XBcZ7oN_JUxJ",
        "outputId": "5113b364-17df-429f-f470-cd14092888f3"
      },
      "execution_count": null,
      "outputs": [
        {
          "output_type": "stream",
          "name": "stdout",
          "text": [
            "longest word: Metamorphosis\n"
          ]
        }
      ]
    },
    {
      "cell_type": "markdown",
      "source": [
        "11. Write a function grade_calculator that takes a score (0-100) and returns the\n",
        "letter grade (A, B, C, D,E, F)."
      ],
      "metadata": {
        "id": "hj51zgRW9MZY"
      }
    },
    {
      "cell_type": "code",
      "source": [
        "def grade_calculator(score):\n",
        "    if score > 100:\n",
        "       print(\"Invalid Entry\")\n",
        "    elif score >= 70:\n",
        "         print (\"A\")\n",
        "    elif score >= 60:\n",
        "         print(\"B\")\n",
        "    elif score >= 50:\n",
        "         print(\"C\")\n",
        "    elif score >= 45:\n",
        "         print(\"D\")\n",
        "    elif score >= 40:\n",
        "         print (\"E\")\n",
        "    elif score >= 0:\n",
        "         print(\"F\")\n",
        "    else:\n",
        "      print(\"Invalid Entry\")"
      ],
      "metadata": {
        "id": "fDj7iDcfM8GL"
      },
      "execution_count": null,
      "outputs": []
    },
    {
      "cell_type": "code",
      "source": [
        "grade_calculator(56)"
      ],
      "metadata": {
        "colab": {
          "base_uri": "https://localhost:8080/"
        },
        "id": "KdLJcZqWPP9B",
        "outputId": "ed0f7b85-667a-4932-be9c-2516aedae93b"
      },
      "execution_count": null,
      "outputs": [
        {
          "output_type": "stream",
          "name": "stdout",
          "text": [
            "C\n"
          ]
        }
      ]
    },
    {
      "cell_type": "markdown",
      "source": [
        "12. Write a function file_extension that extracts the file extension from a filename,\n",
        "handling cases where there might be no extension."
      ],
      "metadata": {
        "id": "GEuMdVfMSANo"
      }
    },
    {
      "cell_type": "code",
      "source": [
        "def file_extension(filename):\n",
        "    extension = filename.rsplit(\".\")\n",
        "    if len(extension) > 1 and extension[1]:\n",
        "       print(extension[1])\n",
        "    else:\n",
        "       print(\"No extension\")"
      ],
      "metadata": {
        "id": "9Een0iZ-R9vP"
      },
      "execution_count": null,
      "outputs": []
    },
    {
      "cell_type": "code",
      "source": [
        "file_extension(\"food.com\")"
      ],
      "metadata": {
        "id": "YVaaRTuw06kB",
        "colab": {
          "base_uri": "https://localhost:8080/"
        },
        "outputId": "caacabad-c3cf-4d85-cf9c-04317a691a25"
      },
      "execution_count": null,
      "outputs": [
        {
          "output_type": "stream",
          "name": "stdout",
          "text": [
            "com\n"
          ]
        }
      ]
    },
    {
      "cell_type": "code",
      "source": [
        "file_extension(\"smarthub.pdf\")"
      ],
      "metadata": {
        "id": "4WeWHxnyR8mu",
        "colab": {
          "base_uri": "https://localhost:8080/"
        },
        "outputId": "13131f70-2ee9-4a68-9814-5d66096eeb7f"
      },
      "execution_count": null,
      "outputs": [
        {
          "output_type": "stream",
          "name": "stdout",
          "text": [
            "pdf\n"
          ]
        }
      ]
    },
    {
      "cell_type": "code",
      "source": [
        "file_extension(\"eba and okra soup\")"
      ],
      "metadata": {
        "colab": {
          "base_uri": "https://localhost:8080/"
        },
        "id": "9ahqbblDZZTZ",
        "outputId": "72a73ee2-d6d5-4fd4-d047-32a6d2c8874b"
      },
      "execution_count": null,
      "outputs": [
        {
          "output_type": "stream",
          "name": "stdout",
          "text": [
            "No extension\n"
          ]
        }
      ]
    },
    {
      "cell_type": "markdown",
      "source": [
        "13. Write a function safe_get_item that tries to access a list item by index and returns\n",
        "None if the index is out of bounds."
      ],
      "metadata": {
        "id": "Si4Sg-GaZb0u"
      }
    },
    {
      "cell_type": "code",
      "source": [
        "def safe_get_item(items, index):\n",
        "    if index>=0 and index < len(items):\n",
        "       print(items[index])\n",
        "    else:\n",
        "       print(\"Out of Bound!\")\n"
      ],
      "metadata": {
        "id": "SqmMPL7fZamV"
      },
      "execution_count": null,
      "outputs": []
    },
    {
      "cell_type": "code",
      "source": [
        "items= [\"rice\", \"beans\", \"eba\"]\n",
        "safe_get_item(items, 2)\n"
      ],
      "metadata": {
        "colab": {
          "base_uri": "https://localhost:8080/"
        },
        "id": "HeJ2_CAZeuME",
        "outputId": "60889b2d-4c12-4fdd-a9e2-3d1d7e91458c"
      },
      "execution_count": null,
      "outputs": [
        {
          "output_type": "stream",
          "name": "stdout",
          "text": [
            "eba\n"
          ]
        }
      ]
    },
    {
      "cell_type": "code",
      "source": [
        "food= [\"rice\", \"beans\", \"eba\", \"ewedu\", \"amala\"]\n",
        "safe_get_item(food, 6)"
      ],
      "metadata": {
        "id": "VBETczi5hYpE",
        "colab": {
          "base_uri": "https://localhost:8080/"
        },
        "outputId": "836170ff-121b-4900-d3e3-e8accd75ba63"
      },
      "execution_count": null,
      "outputs": [
        {
          "output_type": "stream",
          "name": "stdout",
          "text": [
            "Out of Bound!\n"
          ]
        }
      ]
    },
    {
      "cell_type": "markdown",
      "source": [
        "14. Create a function clean_data that takes a list of mixed data types and returns only\n",
        "the numeric values as a new list."
      ],
      "metadata": {
        "id": "5uwX0EQDihv3"
      }
    },
    {
      "cell_type": "code",
      "source": [
        "def clean_data(data_list):\n",
        "    numeric_values =[]\n",
        "    for item in data_list:\n",
        "      if isinstance(item, (int, float)):\n",
        "         numeric_values.append(item)\n",
        "    print(numeric_values)"
      ],
      "metadata": {
        "id": "bjapzMpvuLVV"
      },
      "execution_count": null,
      "outputs": []
    },
    {
      "cell_type": "code",
      "source": [
        "my_list = ['rice', 1.0, 'data', 'Food',3.6, 5, 9, 'Essy']\n",
        "new_data = clean_data(my_list)\n"
      ],
      "metadata": {
        "colab": {
          "base_uri": "https://localhost:8080/"
        },
        "id": "X6EX7vMCyNW9",
        "outputId": "d7ed57ba-6b88-4307-9e67-4399f3cb74ae"
      },
      "execution_count": null,
      "outputs": [
        {
          "output_type": "stream",
          "name": "stdout",
          "text": [
            "[1.0, 3.6, 5, 9]\n"
          ]
        }
      ]
    },
    {
      "cell_type": "markdown",
      "source": [
        "15. Write a function analyze_grades that takes a dictionary of student names and their\n",
        "scores lists, returning statistics (average, highest, lowest) for each student."
      ],
      "metadata": {
        "id": "Wcdj58KqLLGY"
      }
    },
    {
      "cell_type": "code",
      "source": [
        "def analyze_grades(student_grades):\n",
        "    result ={}\n",
        "    for students, scores in student_grades.items():\n",
        "      if scores:\n",
        "          average = sum(scores) / len(scores)\n",
        "          highest = max(scores)\n",
        "          lowest = min(scores)\n",
        "          result= {'average': average, 'highest': highest, 'lowest': lowest}\n",
        "      else:\n",
        "          result = {'average': None, 'highest': None, 'lowest': None}\n",
        "\n",
        "      print(result)"
      ],
      "metadata": {
        "id": "imDKCO13Mubq"
      },
      "execution_count": 5,
      "outputs": []
    },
    {
      "cell_type": "code",
      "source": [
        "all_grades= {'Esther': [85, 90, 78], 'Clayton': [92, 88, 95],\n",
        "           'Chemchris': [70, 65, 80], 'Charles': [] }\n",
        "analyze_grades(all_grades)"
      ],
      "metadata": {
        "colab": {
          "base_uri": "https://localhost:8080/"
        },
        "id": "8yNMpPPa3NWv",
        "outputId": "a36bdb0e-5052-4dff-a18f-290e50f3d29d"
      },
      "execution_count": 7,
      "outputs": [
        {
          "output_type": "stream",
          "name": "stdout",
          "text": [
            "{'average': 84.33333333333333, 'highest': 90, 'lowest': 78}\n",
            "{'average': 91.66666666666667, 'highest': 95, 'lowest': 88}\n",
            "{'average': 71.66666666666667, 'highest': 80, 'lowest': 65}\n",
            "{'average': None, 'highest': None, 'lowest': None}\n"
          ]
        }
      ]
    }
  ]
}